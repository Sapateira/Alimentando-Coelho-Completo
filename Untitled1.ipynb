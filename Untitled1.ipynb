{
  "nbformat": 4,
  "nbformat_minor": 0,
  "metadata": {
    "colab": {
      "provenance": [],
      "authorship_tag": "ABX9TyMwR4U3QgKCFzcvdG2EWvop",
      "include_colab_link": true
    },
    "kernelspec": {
      "name": "python3",
      "display_name": "Python 3"
    },
    "language_info": {
      "name": "python"
    }
  },
  "cells": [
    {
      "cell_type": "markdown",
      "metadata": {
        "id": "view-in-github",
        "colab_type": "text"
      },
      "source": [
        "<a href=\"https://colab.research.google.com/github/anonimabr/Alimentando-Coelho-Completo/blob/main/Untitled1.ipynb\" target=\"_parent\"><img src=\"https://colab.research.google.com/assets/colab-badge.svg\" alt=\"Open In Colab\"/></a>"
      ]
    },
    {
      "cell_type": "code",
      "execution_count": null,
      "metadata": {
        "id": "qTPAutyimzuc"
      },
      "outputs": [],
      "source": [
        "# Número Mínimo e Máximo\n",
        "\n",
        "\n",
        "\n",
        "\n",
        "x = int(input(\"Digite o limite inferior do intervalo: \"))\n",
        "y = int(input(\"Digite o limite superior do intervalo: \"))\n",
        "z = int(input(\"Digite o número pelo qual os números podem ser divididos: \"))\n",
        "\n",
        "\n",
        "for i in range(x,y+1):\n",
        "  if(i%z==0):\n",
        "    print(i)"
      ]
    },
    {
      "cell_type": "code",
      "source": [],
      "metadata": {
        "id": "3WImvZvJqh9A"
      },
      "execution_count": null,
      "outputs": []
    }
  ]
}