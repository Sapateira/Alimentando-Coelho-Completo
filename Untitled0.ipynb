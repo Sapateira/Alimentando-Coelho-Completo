{
  "nbformat": 4,
  "nbformat_minor": 0,
  "metadata": {
    "colab": {
      "provenance": [],
      "authorship_tag": "ABX9TyNxqzP9dKf4F/1Snv32KOAP",
      "include_colab_link": true
    },
    "kernelspec": {
      "name": "python3",
      "display_name": "Python 3"
    },
    "language_info": {
      "name": "python"
    }
  },
  "cells": [
    {
      "cell_type": "markdown",
      "metadata": {
        "id": "view-in-github",
        "colab_type": "text"
      },
      "source": [
        "<a href=\"https://colab.research.google.com/github/anonimabr/Alimentando-Coelho-Completo/blob/main/Untitled0.ipynb\" target=\"_parent\"><img src=\"https://colab.research.google.com/assets/colab-badge.svg\" alt=\"Open In Colab\"/></a>"
      ]
    },
    {
      "cell_type": "code",
      "execution_count": 1,
      "metadata": {
        "colab": {
          "base_uri": "https://localhost:8080/"
        },
        "id": "AGs5WeaWiKgD",
        "outputId": "7e4ae9aa-3c87-428e-fe02-62567207e9f7"
      },
      "outputs": [
        {
          "output_type": "stream",
          "name": "stdout",
          "text": [
            "Digite um ano: 2023\n",
            "2023 não é um ano bissexto.\n"
          ]
        }
      ],
      "source": [
        "def is_leap_year(year):\n",
        "    if year % 4 != 0:\n",
        "        return False\n",
        "    elif year % 100 != 0:\n",
        "        return True\n",
        "    elif year % 400 != 0:\n",
        "        return False\n",
        "    else:\n",
        "        return True\n",
        "\n",
        "# Exemplo de uso:\n",
        "year = int(input(\"Digite um ano: \"))\n",
        "if is_leap_year(year):\n",
        "    print(year, \"é um ano bissexto.\")\n",
        "else:\n",
        "    print(year, \"não é um ano bissexto.\")\n"
      ]
    },
    {
      "cell_type": "code",
      "source": [],
      "metadata": {
        "id": "ZPHu5yHrjcOp"
      },
      "execution_count": null,
      "outputs": []
    }
  ]
}